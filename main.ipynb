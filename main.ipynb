{
 "cells": [
  {
   "cell_type": "code",
   "execution_count": 186,
   "metadata": {},
   "outputs": [],
   "source": [
    "import tensorflow as tf\n",
    "from tensorflow import keras\n",
    "\n",
    "from keras import layers\n",
    "from tensorflow.keras.datasets import mnist\n",
    "\n",
    "import numpy as np\n",
    "from keras.preprocessing import sequence\n",
    "maxFeatures = 10000\n",
    "maxLen = 400"
   ]
  },
  {
   "cell_type": "code",
   "execution_count": 187,
   "metadata": {},
   "outputs": [],
   "source": [
    "(xTrain, yTrain), (xTest, yTest) = tf.keras.datasets.reuters.load_data(path=\"reuters.npz\", test_split=0.2)"
   ]
  },
  {
   "cell_type": "code",
   "execution_count": 188,
   "metadata": {},
   "outputs": [],
   "source": [
    "xTrain = sequence.pad_sequences(xTrain, maxlen=maxLen)\n",
    "xTest = sequence.pad_sequences(xTest, maxlen=maxLen)"
   ]
  },
  {
   "cell_type": "code",
   "execution_count": 206,
   "metadata": {},
   "outputs": [],
   "source": [
    "inputs = keras.layers.Input((400,)) # Input means what goes to each unit\n",
    "x = layers.Dense(1024, activation='relu')(inputs)\n",
    "x = layers.Flatten()(x)\n",
    "outputs = layers.Dense(46, activation='softmax')(x)\n",
    "\n",
    "model = keras.Model(inputs=inputs, outputs=outputs)"
   ]
  },
  {
   "cell_type": "code",
   "execution_count": 207,
   "metadata": {},
   "outputs": [
    {
     "name": "stdout",
     "output_type": "stream",
     "text": [
      "Model: \"model_29\"\n",
      "_________________________________________________________________\n",
      " Layer (type)                Output Shape              Param #   \n",
      "=================================================================\n",
      " input_31 (InputLayer)       [(None, 400)]             0         \n",
      "                                                                 \n",
      " dense_62 (Dense)            (None, 1024)              410624    \n",
      "                                                                 \n",
      " flatten_5 (Flatten)         (None, 1024)              0         \n",
      "                                                                 \n",
      " dense_63 (Dense)            (None, 46)                47150     \n",
      "                                                                 \n",
      "=================================================================\n",
      "Total params: 457,774\n",
      "Trainable params: 457,774\n",
      "Non-trainable params: 0\n",
      "_________________________________________________________________\n"
     ]
    }
   ],
   "source": [
    "model.build((8982,400)) \n",
    "model.summary()"
   ]
  },
  {
   "cell_type": "code",
   "execution_count": null,
   "metadata": {},
   "outputs": [],
   "source": []
  },
  {
   "cell_type": "code",
   "execution_count": 208,
   "metadata": {},
   "outputs": [],
   "source": [
    "model.compile(optimizer=\"nadam\",\n",
    "              loss=\"sparse_categorical_crossentropy\", \n",
    "              metrics=[\"accuracy\"])"
   ]
  },
  {
   "cell_type": "code",
   "execution_count": 209,
   "metadata": {},
   "outputs": [
    {
     "name": "stdout",
     "output_type": "stream",
     "text": [
      "Epoch 1/5\n",
      "71/71 [==============================] - 2s 15ms/step - loss: 1130.0320 - accuracy: 0.2257\n",
      "Epoch 2/5\n",
      "71/71 [==============================] - 1s 16ms/step - loss: 364.8265 - accuracy: 0.4058\n",
      "Epoch 3/5\n",
      "71/71 [==============================] - 1s 15ms/step - loss: 176.5632 - accuracy: 0.5369\n",
      "Epoch 4/5\n",
      "71/71 [==============================] - 1s 15ms/step - loss: 102.3759 - accuracy: 0.6381\n",
      "Epoch 5/5\n",
      "71/71 [==============================] - 1s 14ms/step - loss: 76.1171 - accuracy: 0.6993\n"
     ]
    },
    {
     "data": {
      "text/plain": [
       "<keras.callbacks.History at 0x26c9f892a60>"
      ]
     },
     "execution_count": 209,
     "metadata": {},
     "output_type": "execute_result"
    }
   ],
   "source": [
    "model.fit(xTrain, yTrain, epochs=5, batch_size=128)"
   ]
  },
  {
   "cell_type": "code",
   "execution_count": null,
   "metadata": {},
   "outputs": [],
   "source": []
  },
  {
   "cell_type": "code",
   "execution_count": null,
   "metadata": {},
   "outputs": [],
   "source": []
  }
 ],
 "metadata": {
  "interpreter": {
   "hash": "498f5c14986f65ef32815c50f5415123136cd02ca9ee00369aaa8369bd2f7e80"
  },
  "kernelspec": {
   "display_name": "Python 3.9.7 ('tf')",
   "language": "python",
   "name": "python3"
  },
  "language_info": {
   "codemirror_mode": {
    "name": "ipython",
    "version": 3
   },
   "file_extension": ".py",
   "mimetype": "text/x-python",
   "name": "python",
   "nbconvert_exporter": "python",
   "pygments_lexer": "ipython3",
   "version": "3.9.7"
  },
  "orig_nbformat": 4
 },
 "nbformat": 4,
 "nbformat_minor": 2
}
